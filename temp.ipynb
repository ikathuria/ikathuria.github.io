{
 "cells": [
  {
   "cell_type": "code",
   "execution_count": 1,
   "metadata": {},
   "outputs": [],
   "source": [
    "import logging"
   ]
  },
  {
   "cell_type": "code",
   "execution_count": 3,
   "metadata": {},
   "outputs": [],
   "source": [
    "class PortfolioLogger:\n",
    "    def __init__(self):\n",
    "        pass\n",
    "\n",
    "    def setup_logging(self):\n",
    "        logging.basicConfig(\n",
    "            level=logging.DEBUG,\n",
    "            format='%(asctime)s %(name)s [%(levelname)s] %(message)s',\n",
    "            handlers=[\n",
    "                logging.FileHandler('service.log'),\n",
    "                logging.StreamHandler()\n",
    "            ]\n",
    "        )\n",
    "        logger = logging.getLogger(__name__)\n",
    "        return logger\n",
    "\n",
    "\n",
    "LOGGER = PortfolioLogger().setup_logging()"
   ]
  },
  {
   "cell_type": "code",
   "execution_count": 4,
   "metadata": {},
   "outputs": [
    {
     "name": "stderr",
     "output_type": "stream",
     "text": [
      "2024-10-01 17:20:03,572 __main__ [ERROR] hi\n"
     ]
    }
   ],
   "source": [
    "LOGGER.error(\"hi\")"
   ]
  }
 ],
 "metadata": {
  "kernelspec": {
   "display_name": "venv",
   "language": "python",
   "name": "python3"
  },
  "language_info": {
   "codemirror_mode": {
    "name": "ipython",
    "version": 3
   },
   "file_extension": ".py",
   "mimetype": "text/x-python",
   "name": "python",
   "nbconvert_exporter": "python",
   "pygments_lexer": "ipython3",
   "version": "3.10.8"
  }
 },
 "nbformat": 4,
 "nbformat_minor": 2
}
